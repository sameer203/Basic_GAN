{
  "nbformat": 4,
  "nbformat_minor": 0,
  "metadata": {
    "colab": {
      "name": "Basic_GAN.ipynb",
      "provenance": [],
      "collapsed_sections": [],
      "mount_file_id": "1ryHIrOh0pUmparI2sCPfEqBEdStedDZa",
      "authorship_tag": "ABX9TyO63nCjjnECAE/FilbpXNY3",
      "include_colab_link": true
    },
    "kernelspec": {
      "name": "python3",
      "display_name": "Python 3"
    },
    "language_info": {
      "name": "python"
    },
    "accelerator": "GPU"
  },
  "cells": [
    {
      "cell_type": "markdown",
      "metadata": {
        "id": "view-in-github",
        "colab_type": "text"
      },
      "source": [
        "<a href=\"https://colab.research.google.com/github/sameer203/Basic_GAN/blob/main/Basic_GAN.ipynb\" target=\"_parent\"><img src=\"https://colab.research.google.com/assets/colab-badge.svg\" alt=\"Open In Colab\"/></a>"
      ]
    },
    {
      "cell_type": "code",
      "metadata": {
        "id": "q5uQtlTrGFrT"
      },
      "source": [
        "import os\n",
        "ROOT = \"/content/drive/MyDrive/GAN\"\n",
        "os.chdir(ROOT)"
      ],
      "execution_count": 1,
      "outputs": []
    },
    {
      "cell_type": "code",
      "metadata": {
        "colab": {
          "base_uri": "https://localhost:8080/",
          "height": 35
        },
        "id": "AoJ07US4Gsci",
        "outputId": "64657b76-e30a-4321-99e3-ceb8b6b168c9"
      },
      "source": [
        "os.getcwd()"
      ],
      "execution_count": 2,
      "outputs": [
        {
          "output_type": "execute_result",
          "data": {
            "application/vnd.google.colaboratory.intrinsic+json": {
              "type": "string"
            },
            "text/plain": [
              "'/content/drive/MyDrive/GAN'"
            ]
          },
          "metadata": {},
          "execution_count": 2
        }
      ]
    },
    {
      "cell_type": "markdown",
      "metadata": {
        "id": "KAnDdtFQG4OV"
      },
      "source": [
        "### Import Libraries"
      ]
    },
    {
      "cell_type": "code",
      "metadata": {
        "id": "hspf566sGt7g"
      },
      "source": [
        "import torch, pdb\n",
        "from torch.utils.data import DataLoader\n",
        "from torch import nn\n",
        "from torchvision import transforms\n",
        "from torchvision.datasets import MNIST\n",
        "from torchvision.utils import make_grid\n",
        "from tqdm.auto import tqdm\n",
        "import matplotlib.pyplot as plt"
      ],
      "execution_count": 3,
      "outputs": []
    },
    {
      "cell_type": "markdown",
      "metadata": {
        "id": "GYHya3b5G8g-"
      },
      "source": [
        "### Visualization Function"
      ]
    },
    {
      "cell_type": "code",
      "metadata": {
        "id": "GTN9zJktG6gg"
      },
      "source": [
        "def show(tensor, ch=1, size=(28,28), num=16):\n",
        "  data = tensor.detach().cpu().view(-1, ch, *size)\n",
        "  grid = make_grid(data[:num], nrows=4).permute(1,2,0)\n",
        "  plt.imshow(grid)\n",
        "  plt.show()"
      ],
      "execution_count": 4,
      "outputs": []
    },
    {
      "cell_type": "markdown",
      "metadata": {
        "id": "tk_rrrdTHFLs"
      },
      "source": [
        "### Setup of the main parameters and hyperparamaters"
      ]
    },
    {
      "cell_type": "code",
      "metadata": {
        "colab": {
          "base_uri": "https://localhost:8080/"
        },
        "id": "SeT0Yn10G_JB",
        "outputId": "362314e5-970a-43d0-889d-ecea4b1715b5"
      },
      "source": [
        "epochs = 500\n",
        "cur_step = 0\n",
        "info_step = 300\n",
        "mean_gen_loss = 0\n",
        "mean_disc_loss = 0\n",
        "\n",
        "z_dim = 64\n",
        "lr = 0.00001\n",
        "loss_func = nn.BCEWithLogitsLoss()\n",
        "\n",
        "bs = 128\n",
        "device = \"cuda\"\n",
        "\n",
        "dataloader = DataLoader(MNIST(\".\", download=True, transform=transforms.ToTensor()), shuffle=True, batch_size=bs)"
      ],
      "execution_count": 5,
      "outputs": [
        {
          "output_type": "stream",
          "name": "stderr",
          "text": [
            "/usr/local/lib/python3.7/dist-packages/torchvision/datasets/mnist.py:498: UserWarning: The given NumPy array is not writeable, and PyTorch does not support non-writeable tensors. This means you can write to the underlying (supposedly non-writeable) NumPy array using the tensor. You may want to copy the array to protect its data or make it writeable before converting it to a tensor. This type of warning will be suppressed for the rest of this program. (Triggered internally at  /pytorch/torch/csrc/utils/tensor_numpy.cpp:180.)\n",
            "  return torch.from_numpy(parsed.astype(m[2], copy=False)).view(*s)\n"
          ]
        }
      ]
    },
    {
      "cell_type": "markdown",
      "metadata": {
        "id": "mZtzIlMIHRJL"
      },
      "source": [
        "### Model - Generator"
      ]
    },
    {
      "cell_type": "code",
      "metadata": {
        "id": "LlZeOQscHIzf"
      },
      "source": [
        "def genBlock(inp,out):\n",
        "  return nn.Sequential(\n",
        "      nn.Linear(inp, out),\n",
        "      nn.BatchNorm1d(out),\n",
        "      nn.ReLU(inplace=True)\n",
        "  )\n",
        "\n",
        "class Generator(nn.Module):\n",
        "  def __init__(self, z_dim=64, i_dim=784, h_dim=128):\n",
        "    super().__init__()\n",
        "    self.gen = nn.Sequential(\n",
        "        genBlock(z_dim, h_dim),\n",
        "        genBlock(h_dim, h_dim*2),\n",
        "        genBlock(h_dim*2, h_dim*4),\n",
        "        genBlock(h_dim*4, h_dim*8),\n",
        "        nn.Linear(h_dim*8, i_dim),\n",
        "        nn.Sigmoid()\n",
        "    )\n",
        "\n",
        "  def forward(self, noise):\n",
        "    return self.gen(noise)\n",
        "\n",
        "\n",
        "def gen_noise(number, z_dim):\n",
        "  return torch.randn(number, z_dim).to(device)"
      ],
      "execution_count": 6,
      "outputs": []
    },
    {
      "cell_type": "markdown",
      "metadata": {
        "id": "hKx1KDydHXFL"
      },
      "source": [
        "### Model - Discriminator"
      ]
    },
    {
      "cell_type": "code",
      "metadata": {
        "id": "6XcuMG0JHULP"
      },
      "source": [
        "def discBlock(inp,out):\n",
        "  return nn.Sequential(\n",
        "      nn.Linear(inp, out),\n",
        "      nn.LeakyReLU(0.2)\n",
        "  )\n",
        "\n",
        "class Discriminator(nn.Module):\n",
        "  def __init__(self, i_dim=784,h_dim=256):\n",
        "    super().__init__()\n",
        "    self.disc = nn.Sequential(\n",
        "        disBlock(i_dim, h_dim*4),\n",
        "        disBlock(h_dim*4, h_dim*2),\n",
        "        disBlock(h_dim*2, h_dim),\n",
        "        nn.Linear(h_dim, 1)\n",
        "    )\n",
        "\n",
        "  def forward(self, noise):\n",
        "    return self.disc(image)"
      ],
      "execution_count": 7,
      "outputs": []
    },
    {
      "cell_type": "code",
      "metadata": {
        "id": "Z6eDsPyFHaWe"
      },
      "source": [
        ""
      ],
      "execution_count": null,
      "outputs": []
    }
  ]
}